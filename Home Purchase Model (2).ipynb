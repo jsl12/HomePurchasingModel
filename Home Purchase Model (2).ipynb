{
 "cells": [
  {
   "cell_type": "code",
   "execution_count": null,
   "id": "1bd4dcb3-94f7-49ea-9dcc-5693e910b322",
   "metadata": {},
   "outputs": [],
   "source": [
    "%load_ext autoreload\n",
    "%autoreload 2"
   ]
  },
  {
   "cell_type": "code",
   "execution_count": null,
   "id": "ff4ba240-eb3d-4103-9972-e7ab5be4b659",
   "metadata": {},
   "outputs": [],
   "source": [
    "import math\n",
    "from datetime import datetime, timedelta\n",
    "from typing import Union\n",
    "\n",
    "import numpy as np\n",
    "import pandas as pd\n",
    "\n",
    "import formulas\n",
    "import dataframes\n",
    "import analysis\n",
    "\n",
    "import matplotlib.pyplot as plt"
   ]
  },
  {
   "cell_type": "code",
   "execution_count": null,
   "id": "2ec849eb-f142-4852-8d6c-f46077ed1339",
   "metadata": {},
   "outputs": [],
   "source": [
    "TAX_APPRAISAL_VAL = 500*10**3\n",
    "DOWN_PAYMENT = TAX_APPRAISAL_VAL * .20\n",
    "# DOWN_PAYMENT = 70*10**3\n",
    "PRINCIPAL = TAX_APPRAISAL_VAL - DOWN_PAYMENT\n",
    "LOAN_APR = .033\n",
    "PAYMENTS_N = 12\n",
    "YEARS = 30\n",
    "\n",
    "PMI_RATE = 0.005\n",
    "TAX_APR = 0.0182\n",
    "TAX_APPRAISAL_VAL_GROWTH_RATE = 0.052"
   ]
  },
  {
   "cell_type": "code",
   "execution_count": null,
   "id": "ae24785e-915e-4489-9496-b10fb619fc43",
   "metadata": {},
   "outputs": [],
   "source": [
    "%%timeit -n 100 -r 2\n",
    "df = dataframes.return_on_investment(\n",
    "    TAX_APPRAISAL_VAL,\n",
    "    DOWN_PAYMENT,\n",
    "    LOAN_APR,\n",
    "    num_years=YEARS,\n",
    "    pmi_rate=PMI_RATE,\n",
    "    property_tax_rate=TAX_APR,\n",
    "    apprasial_growth=TAX_APPRAISAL_VAL_GROWTH_RATE\n",
    ")\n",
    "\n",
    "df.round(2)"
   ]
  },
  {
   "cell_type": "code",
   "execution_count": null,
   "id": "8e1ca007-6cca-415d-9179-ee0d11aa0be9",
   "metadata": {},
   "outputs": [],
   "source": [
    "analysis.annualized_return_vs_growth(\n",
    "    initial_value=TAX_APPRAISAL_VAL,\n",
    "    loan_interest_rate=LOAN_APR,\n",
    "    growth_rates=np.arange(0.01, 0.15, 0.005),\n",
    "    num_years=YEARS,\n",
    "    pmi_rate=PMI_RATE,\n",
    "    property_tax_rate=TAX_APR,\n",
    "    figsize=(19.2, 10.8),\n",
    "    facecolor='white'\n",
    ")"
   ]
  },
  {
   "cell_type": "code",
   "execution_count": null,
   "id": "893ffaee-fe10-436b-8bd2-d113df082d5f",
   "metadata": {},
   "outputs": [],
   "source": [
    "# %%timeit -n 2 -r 1\n",
    "df = analysis.monthly_payment_vs_down_pmt(\n",
    "    loan_interest_rate=LOAN_APR,\n",
    "    num_years=YEARS,\n",
    "    pmi_rate=PMI_RATE,\n",
    "    property_tax_rate=TAX_APR,\n",
    "    figsize=(19.2, 10.8),\n",
    "    facecolor='white'\n",
    ")\n",
    "df"
   ]
  },
  {
   "cell_type": "code",
   "execution_count": null,
   "id": "a8991e33-2290-4523-b1ca-e34b464dd750",
   "metadata": {},
   "outputs": [],
   "source": [
    "df = pd.DataFrame(columns=pd.Index(np.arange(200, 650, 50)),\n",
    "                  index=pd.Index(np.arange(25, 205, 5), name='down_pmt'))\n",
    "df.stack()"
   ]
  },
  {
   "cell_type": "markdown",
   "id": "1e3adb96-ba43-453e-9733-1975acc88134",
   "metadata": {},
   "source": [
    "# Property Tax\n",
    "\n",
    "<span style=\"color:red\">\n",
    "</span>"
   ]
  },
  {
   "cell_type": "code",
   "execution_count": null,
   "id": "174538e7-7081-4778-b6a3-07e5ff7b8098",
   "metadata": {
    "tags": []
   },
   "outputs": [],
   "source": [
    "tax_df = dataframes.property_tax_amortization(TAX_APPRAISAL_VAL, TAX_APR, YEARS + 1, TAX_APPRAISAL_VAL_GROWTH_RATE)\n",
    "display(tax_df.round(2))"
   ]
  },
  {
   "cell_type": "markdown",
   "id": "3f53eafc-6c61-4f5d-871d-2e430344fb0f",
   "metadata": {
    "tags": []
   },
   "source": [
    "# Mortgage Amortization"
   ]
  },
  {
   "cell_type": "code",
   "execution_count": null,
   "id": "3600e8cf-b13b-4d12-8abc-2451deb76759",
   "metadata": {},
   "outputs": [],
   "source": [
    "df = dataframes.mortgage_amortization(PRINCIPAL, DOWN_PAYMENT, LOAN_APR, YEARS)\n",
    "display(df.round(2))"
   ]
  },
  {
   "cell_type": "code",
   "execution_count": null,
   "id": "d34ec579-5586-4bbd-a181-bc3f4d105292",
   "metadata": {},
   "outputs": [],
   "source": [
    "[v for v in np.arange(200, 550, 50) * 10 ** 3]"
   ]
  },
  {
   "cell_type": "code",
   "execution_count": null,
   "id": "9052fe94-1e9e-4584-83ef-c06125ee7ef8",
   "metadata": {},
   "outputs": [],
   "source": [
    "df = pd.DataFrame(\n",
    "    columns=pd.Index(np.arange(200, 550, 50) * 10 ** 3),\n",
    "    index=pd.Index(np.arange(0.05, 0.35, 0.01) * TAX_APPRAISAL_VAL, name='down_pmt')\n",
    ")\n",
    "\n",
    "vroi = np.vectorize(\n",
    "    lambda val, dp: analysis.return_on_investment(\n",
    "        initial_value=val,\n",
    "        down_payment=dp,\n",
    "        loan_interest_rate=LOAN_APR,\n",
    "        num_years=YEARS,\n",
    "        pmi_rate=PMI_RATE,\n",
    "        property_tax_rate=TAX_APR,\n",
    "        apprasial_growth=TAX_APPRAISAL_VAL_GROWTH_RATE)['total monthly payment'].iloc[1] / 10 ** 3\n",
    ")\n",
    "vroi([df.columns.values, df.index.values])\n",
    "df"
   ]
  },
  {
   "cell_type": "code",
   "execution_count": null,
   "id": "94909a71-3d69-488a-b510-cbfab713fda9",
   "metadata": {},
   "outputs": [],
   "source": [
    "# %%timeit -n 10 -r 1\n",
    "df = pd.DataFrame(\n",
    "    columns=pd.Index(np.arange(200, 650, 50)),\n",
    "    index=pd.Index(np.arange(0.05, 0.35, 0.01) * TAX_APPRAISAL_VAL / 10**3, name='down_pmt')\n",
    ")\n",
    "\n",
    "for idx in np.arange(df.shape[0]):\n",
    "    for col in np.arange(df.shape[1]):\n",
    "        df.iloc[idx, col] = analysis.return_on_investment(\n",
    "            initial_value=df.columns[col] * 10 ** 3,\n",
    "            down_payment=df.index[idx] * 10**3,\n",
    "            loan_interest_rate=LOAN_APR,\n",
    "            num_years=YEARS,\n",
    "            pmi_rate=PMI_RATE,\n",
    "            property_tax_rate=TAX_APR,\n",
    "            apprasial_growth=TAX_APPRAISAL_VAL_GROWTH_RATE)['total monthly payment'].iloc[1] / 10**3\n",
    "df"
   ]
  },
  {
   "cell_type": "code",
   "execution_count": null,
   "id": "1f594ab5-626f-42a8-a833-8074f2e6113e",
   "metadata": {},
   "outputs": [],
   "source": [
    "fig, ax = plt.subplots(figsize=(19.2, 10.8))\n",
    "ax.plot(df, label=[f'${v:.0f}k' for v in df.columns.values])\n",
    "ax.grid(True)\n",
    "ax.set_ylabel('Initial Monthly Payment')\n",
    "ax.xaxis.set_major_formatter('${x:.0f}k')\n",
    "ax.set_xlabel('Down Payment')\n",
    "ax.yaxis.set_major_formatter('${x:.1f}k')\n",
    "ax.legend(title='Home Value')"
   ]
  },
  {
   "cell_type": "code",
   "execution_count": null,
   "id": "f6d1b084-0cdc-496a-9585-bf49f9e71a86",
   "metadata": {},
   "outputs": [],
   "source": [
    "df"
   ]
  },
  {
   "cell_type": "code",
   "execution_count": null,
   "id": "3bd21faa-39a2-4f40-b248-32b836dee4c0",
   "metadata": {},
   "outputs": [],
   "source": []
  }
 ],
 "metadata": {
  "kernelspec": {
   "display_name": "Python 3",
   "language": "python",
   "name": "python3"
  },
  "language_info": {
   "codemirror_mode": {
    "name": "ipython",
    "version": 3
   },
   "file_extension": ".py",
   "mimetype": "text/x-python",
   "name": "python",
   "nbconvert_exporter": "python",
   "pygments_lexer": "ipython3",
   "version": "3.9.5"
  }
 },
 "nbformat": 4,
 "nbformat_minor": 5
}
